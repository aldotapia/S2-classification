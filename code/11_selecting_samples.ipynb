{
 "cells": [
  {
   "cell_type": "code",
   "execution_count": 1,
   "metadata": {},
   "outputs": [],
   "source": [
    "# load sklean libraries for getting train, validation and test data\n",
    "# also, the needed for boostrapping\n",
    "from sklearn.model_selection import train_test_split\n",
    "import pandas as pd\n",
    "import os"
   ]
  },
  {
   "cell_type": "code",
   "execution_count": 2,
   "metadata": {},
   "outputs": [],
   "source": [
    "path = '~/Documents/GitHub/S2-classification/Data'"
   ]
  },
  {
   "cell_type": "code",
   "execution_count": 17,
   "metadata": {},
   "outputs": [],
   "source": [
    "ndvi = pd.read_csv(os.path.join(path, 'ndvi.csv'), index_col='ID')\n",
    "ndvi = ndvi.drop(columns=['Unnamed: 0'], axis=1)\n",
    "ndvi['ndvi_pen'] = ndvi['ndvi_pen']/ndvi['n']\n",
    "ndvi['ndvi_pen'] = (ndvi['ndvi_pen'] - ndvi['ndvi_pen'].min())/(ndvi['ndvi_pen'].max() - ndvi['ndvi_pen'].min())\n",
    "ndvi.drop(columns=['n'], axis=1, inplace=True)\n",
    "ndvi = ndvi.sort_values(by=['specie'])\n",
    "\n",
    "b02 = pd.read_csv(os.path.join(path, 'b02.csv'), index_col='ID')\n",
    "b02 = b02.drop(columns=['Unnamed: 0'], axis=1)\n",
    "b02['b02_pen'] = b02['b02_pen']/b02['n']\n",
    "b02['b02_pen'] = (b02['b02_pen'] - b02['b02_pen'].min())/(b02['b02_pen'].max() - b02['b02_pen'].min())\n",
    "b02.drop(columns=['n','specie'], axis=1, inplace=True)\n",
    "\n",
    "b03 = pd.read_csv(os.path.join(path, 'b03.csv'), index_col='ID')\n",
    "b03 = b03.drop(columns=['Unnamed: 0'], axis=1)\n",
    "b03['b03_pen'] = b03['b03_pen']/b03['n']\n",
    "b03['b03_pen'] = (b03['b03_pen'] - b03['b03_pen'].min())/(b03['b03_pen'].max() - b03['b03_pen'].min())\n",
    "b03.drop(columns=['n','specie'], axis=1, inplace=True)\n",
    "\n",
    "b04 = pd.read_csv(os.path.join(path, 'b04.csv'), index_col='ID')\n",
    "b04 = b04.drop(columns=['Unnamed: 0'], axis=1)\n",
    "b04['b04_pen'] = b04['b04_pen']/b04['n']\n",
    "b04['b04_pen'] = (b04['b04_pen'] - b04['b04_pen'].min())/(b04['b04_pen'].max() - b04['b04_pen'].min())\n",
    "b04.drop(columns=['n','specie'], axis=1, inplace=True)\n",
    "\n",
    "b08 = pd.read_csv(os.path.join(path, 'b08.csv'), index_col='ID')\n",
    "b08 = b08.drop(columns=['Unnamed: 0'], axis=1)\n",
    "b08['b08_pen'] = b08['b08_pen']/b08['n']\n",
    "b08['b08_pen'] = (b08['b08_pen'] - b08['b08_pen'].min())/(b08['b08_pen'].max() - b08['b08_pen'].min())\n",
    "b08.drop(columns=['n'], axis=1, inplace=True)\n",
    "\n",
    "# Merge all bands\n",
    "bands = pd.concat([b02,b03,b04,b08], axis=1)\n",
    "bands = bands.sort_values(by=['specie'])\n",
    "\n",
    "# concat bands and ndvi\n",
    "both = pd.concat([ndvi.drop('specie', axis = 1),bands], axis=1)\n"
   ]
  },
  {
   "cell_type": "code",
   "execution_count": 19,
   "metadata": {},
   "outputs": [],
   "source": [
    "# count the number of samples per specie\n",
    "res = both['specie'].value_counts()"
   ]
  },
  {
   "cell_type": "code",
   "execution_count": 26,
   "metadata": {},
   "outputs": [],
   "source": [
    "both = both.reset_index()"
   ]
  },
  {
   "cell_type": "code",
   "execution_count": 27,
   "metadata": {},
   "outputs": [],
   "source": [
    "# for each specie, split in 60%, 20% and 20%\n",
    "# train, validation and test\n",
    "# stratify to keep the same proportion of samples per specie\n",
    "train, test = train_test_split(both, test_size=0.2, stratify=both['specie'])\n",
    "train, val = train_test_split(train, test_size=0.25, stratify=train['specie'])"
   ]
  },
  {
   "cell_type": "code",
   "execution_count": 28,
   "metadata": {},
   "outputs": [],
   "source": [
    "def sample_or_boostrap(df, limit):\n",
    "    if len(df) > limit:\n",
    "        return df.sample(replace=False, n=limit, random_state=1)\n",
    "    else:\n",
    "        res = df\n",
    "        res2 = df.sample(n= limit - len(df), random_state=1, replace=True)\n",
    "        return pd.concat([res, res2])\n"
   ]
  },
  {
   "cell_type": "code",
   "execution_count": 29,
   "metadata": {},
   "outputs": [],
   "source": [
    "# for train, limit the numnbre of samples per specie to 100\n",
    "train = train.groupby('specie').apply(lambda x: sample_or_boostrap(x, limit=100)).reset_index(drop=True)"
   ]
  },
  {
   "cell_type": "code",
   "execution_count": 30,
   "metadata": {},
   "outputs": [],
   "source": [
    "# for validation, limit the numnbre of samples per specie to 30\n",
    "val = val.groupby('specie').apply(lambda x: sample_or_boostrap(x, limit=30)).reset_index(drop=True)\n",
    "\n",
    "# for test, limit the numnbre of samples per specie to 30\n",
    "test = test.groupby('specie').apply(lambda x: sample_or_boostrap(x, limit=30)).reset_index(drop=True)"
   ]
  },
  {
   "cell_type": "code",
   "execution_count": 32,
   "metadata": {},
   "outputs": [],
   "source": [
    "train.to_csv(os.path.join(path, 'train.csv'), index=False)\n",
    "val.to_csv(os.path.join(path, 'val.csv'), index=False)\n",
    "test.to_csv(os.path.join(path, 'test.csv'), index=False)"
   ]
  }
 ],
 "metadata": {
  "kernelspec": {
   "display_name": "msc",
   "language": "python",
   "name": "python3"
  },
  "language_info": {
   "codemirror_mode": {
    "name": "ipython",
    "version": 3
   },
   "file_extension": ".py",
   "mimetype": "text/x-python",
   "name": "python",
   "nbconvert_exporter": "python",
   "pygments_lexer": "ipython3",
   "version": "3.11.0"
  }
 },
 "nbformat": 4,
 "nbformat_minor": 2
}
